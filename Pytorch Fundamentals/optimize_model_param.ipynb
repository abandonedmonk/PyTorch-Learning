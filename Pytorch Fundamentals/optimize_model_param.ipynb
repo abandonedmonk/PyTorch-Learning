{
 "cells": [
  {
   "cell_type": "code",
   "execution_count": 2,
   "metadata": {},
   "outputs": [],
   "source": [
    "import torch\n",
    "from torch import nn\n",
    "from torch.utils.data import DataLoader\n",
    "from torchvision import datasets\n",
    "from torchvision.transforms import ToTensor\n"
   ]
  },
  {
   "cell_type": "code",
   "execution_count": 3,
   "metadata": {},
   "outputs": [],
   "source": [
    "training_data = datasets.FashionMNIST(\n",
    "    root = \"data\",\n",
    "    train = True, \n",
    "    download=True,\n",
    "    transform=ToTensor()\n",
    ")\n",
    "\n",
    "test_data = datasets.FashionMNIST(\n",
    "    root=\"data\",\n",
    "    train=False,\n",
    "    download=True,\n",
    "    transform=ToTensor()\n",
    ")\n",
    "\n",
    "train_datloader = DataLoader(training_data, batch_size=64)\n",
    "test_dataloader = DataLoader(test_data, batch_size=64)"
   ]
  },
  {
   "cell_type": "code",
   "execution_count": 4,
   "metadata": {},
   "outputs": [],
   "source": [
    "class NeuralNetwork(nn.Module):\n",
    "    def __init__(self):\n",
    "        super().__init__()\n",
    "        self.flatten = nn.Flatten()\n",
    "        self.linear_relu_stack = nn.Sequential(\n",
    "            nn.Linear(28*28, 512),\n",
    "            nn.ReLU(),\n",
    "            nn.Linear(512, 512),\n",
    "            nn.ReLU(),\n",
    "            nn.Linear(512, 10),\n",
    "        )\n",
    "\n",
    "    def forward(self, x):\n",
    "        x = self.flatten(x)\n",
    "        logits = self.linear_relu_stack(x)\n",
    "        return logits\n",
    "\n",
    "model = NeuralNetwork()\n"
   ]
  },
  {
   "cell_type": "code",
   "execution_count": 5,
   "metadata": {},
   "outputs": [],
   "source": [
    "learning_rate = 1e-3\n",
    "batch_size = 64\n",
    "epochs = 5"
   ]
  },
  {
   "cell_type": "code",
   "execution_count": 6,
   "metadata": {},
   "outputs": [],
   "source": [
    "loss_fn = nn.CrossEntropyLoss()"
   ]
  },
  {
   "cell_type": "code",
   "execution_count": 8,
   "metadata": {},
   "outputs": [],
   "source": [
    "optimizer = torch.optim.SGD(model.parameters(), lr = learning_rate)"
   ]
  },
  {
   "cell_type": "code",
   "execution_count": 9,
   "metadata": {},
   "outputs": [],
   "source": [
    "def train_loop(dataloader, model, loss_fn, optimizer):\n",
    "    size = len(dataloader.dataset)\n",
    "    model.train()\n",
    "    for batch, (X, y) in enumerate(dataloader):\n",
    "        pred = model(X)\n",
    "        loss = loss_fn(pred, y)\n",
    "        \n",
    "        loss.backward()\n",
    "        optimizer.step()\n",
    "        optimizer.zero_grad()\n",
    "        \n",
    "        if batch % 100 == 0:\n",
    "            loss, current = loss.item(), batch * batch_size + len(X)\n",
    "            print(f\"loss: {loss: >7f} [{current: >5d}/{size: >5d}]\")\n",
    "\n",
    "def test_loop(dataloader, model, loss_fn):\n",
    "    model.eval()\n",
    "    size = len(dataloader.dataset)\n",
    "    num_batches = len(dataloader)\n",
    "    test_loss, correct = 0, 0\n",
    "    \n",
    "    with torch.no_grad():\n",
    "        for X, y in dataloader:\n",
    "            pred = model(X)\n",
    "            test_loss += loss_fn(pred, y).item()\n",
    "            correct += (pred.argmax(1) == y).type(torch.float).sum().item()\n",
    "            \n",
    "    test_loss /= num_batches\n",
    "    correct /= size\n",
    "    print(f\"Test Error: \\n Accuracy: {(100*correct):>0.1f}%, Avg loss: {test_loss:>8f} \\n\")"
   ]
  },
  {
   "cell_type": "code",
   "execution_count": 10,
   "metadata": {},
   "outputs": [
    {
     "name": "stdout",
     "output_type": "stream",
     "text": [
      "Epoch 1 \n",
      " -----------------------------------\n",
      "loss: 2.324793 [   64/60000]\n",
      "loss: 2.305337 [ 6464/60000]\n",
      "loss: 2.289733 [12864/60000]\n",
      "loss: 2.273533 [19264/60000]\n",
      "loss: 2.258209 [25664/60000]\n",
      "loss: 2.245527 [32064/60000]\n",
      "loss: 2.240017 [38464/60000]\n",
      "loss: 2.215250 [44864/60000]\n",
      "loss: 2.206655 [51264/60000]\n",
      "loss: 2.178045 [57664/60000]\n",
      "Test Error: \n",
      " Accuracy: 45.6%, Avg loss: 2.169678 \n",
      "\n",
      "Epoch 2 \n",
      " -----------------------------------\n",
      "loss: 2.185144 [   64/60000]\n",
      "loss: 2.169362 [ 6464/60000]\n",
      "loss: 2.119123 [12864/60000]\n",
      "loss: 2.131674 [19264/60000]\n",
      "loss: 2.076854 [25664/60000]\n",
      "loss: 2.032559 [32064/60000]\n",
      "loss: 2.050128 [38464/60000]\n",
      "loss: 1.976468 [44864/60000]\n",
      "loss: 1.983991 [51264/60000]\n",
      "loss: 1.914548 [57664/60000]\n",
      "Test Error: \n",
      " Accuracy: 57.8%, Avg loss: 1.907894 \n",
      "\n",
      "Epoch 3 \n",
      " -----------------------------------\n",
      "loss: 1.942355 [   64/60000]\n",
      "loss: 1.909748 [ 6464/60000]\n",
      "loss: 1.796332 [12864/60000]\n",
      "loss: 1.836456 [19264/60000]\n",
      "loss: 1.720767 [25664/60000]\n",
      "loss: 1.677150 [32064/60000]\n",
      "loss: 1.695337 [38464/60000]\n",
      "loss: 1.593194 [44864/60000]\n",
      "loss: 1.616544 [51264/60000]\n",
      "loss: 1.514573 [57664/60000]\n",
      "Test Error: \n",
      " Accuracy: 60.0%, Avg loss: 1.530096 \n",
      "\n",
      "Epoch 4 \n",
      " -----------------------------------\n",
      "loss: 1.597750 [   64/60000]\n",
      "loss: 1.560779 [ 6464/60000]\n",
      "loss: 1.414730 [12864/60000]\n",
      "loss: 1.482187 [19264/60000]\n",
      "loss: 1.361170 [25664/60000]\n",
      "loss: 1.359399 [32064/60000]\n",
      "loss: 1.371356 [38464/60000]\n",
      "loss: 1.293067 [44864/60000]\n",
      "loss: 1.325261 [51264/60000]\n",
      "loss: 1.230112 [57664/60000]\n",
      "Test Error: \n",
      " Accuracy: 62.7%, Avg loss: 1.257161 \n",
      "\n",
      "Epoch 5 \n",
      " -----------------------------------\n",
      "loss: 1.337087 [   64/60000]\n",
      "loss: 1.318154 [ 6464/60000]\n",
      "loss: 1.158344 [12864/60000]\n",
      "loss: 1.258104 [19264/60000]\n",
      "loss: 1.133265 [25664/60000]\n",
      "loss: 1.158764 [32064/60000]\n",
      "loss: 1.179076 [38464/60000]\n",
      "loss: 1.111339 [44864/60000]\n",
      "loss: 1.151179 [51264/60000]\n",
      "loss: 1.071616 [57664/60000]\n",
      "Test Error: \n",
      " Accuracy: 64.4%, Avg loss: 1.093372 \n",
      "\n",
      "Done!\n"
     ]
    }
   ],
   "source": [
    "for t in range(epochs):\n",
    "    print(f\"Epoch {t + 1} \\n -----------------------------------\")\n",
    "    train_loop(train_datloader, model, loss_fn, optimizer)\n",
    "    test_loop(test_dataloader, model, loss_fn)\n",
    "    \n",
    "print(\"Done!\")"
   ]
  },
  {
   "cell_type": "code",
   "execution_count": null,
   "metadata": {},
   "outputs": [],
   "source": []
  }
 ],
 "metadata": {
  "kernelspec": {
   "display_name": "Python 3",
   "language": "python",
   "name": "python3"
  },
  "language_info": {
   "codemirror_mode": {
    "name": "ipython",
    "version": 3
   },
   "file_extension": ".py",
   "mimetype": "text/x-python",
   "name": "python",
   "nbconvert_exporter": "python",
   "pygments_lexer": "ipython3",
   "version": "3.12.1"
  }
 },
 "nbformat": 4,
 "nbformat_minor": 2
}
